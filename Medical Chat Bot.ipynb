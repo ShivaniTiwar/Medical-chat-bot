{
 "cells": [
  {
   "cell_type": "code",
   "execution_count": 1,
   "id": "6527146c",
   "metadata": {},
   "outputs": [
    {
     "name": "stdout",
     "output_type": "stream",
     "text": [
      "Note: you may need to restart the kernel to use updated packages.\n"
     ]
    }
   ],
   "source": [
    "pip install tflearn -q"
   ]
  },
  {
   "cell_type": "code",
   "execution_count": 2,
   "id": "2bfcdc36",
   "metadata": {},
   "outputs": [
    {
     "name": "stderr",
     "output_type": "stream",
     "text": [
      "[nltk_data] Downloading package punkt to\n",
      "[nltk_data]     C:\\Users\\gky16\\AppData\\Roaming\\nltk_data...\n",
      "[nltk_data]   Package punkt is already up-to-date!\n"
     ]
    },
    {
     "name": "stdout",
     "output_type": "stream",
     "text": [
      "WARNING:tensorflow:From C:\\Users\\gky16\\anaconda3\\lib\\site-packages\\tensorflow\\python\\compat\\v2_compat.py:107: disable_resource_variables (from tensorflow.python.ops.variable_scope) is deprecated and will be removed in a future version.\n",
      "Instructions for updating:\n",
      "non-resource variables are not supported in the long term\n",
      "curses is not supported on this machine (please install/reinstall curses for an optimal experience)\n"
     ]
    }
   ],
   "source": [
    "import nltk\n",
    "nltk.download('punkt')\n",
    "from nltk.stem.lancaster import LancasterStemmer\n",
    "stemmer = LancasterStemmer()\n",
    "import numpy as np\n",
    "import tflearn\n",
    "import tensorflow as tf\n",
    "import random\n",
    "import json\n",
    "import pickle\n",
    "import os"
   ]
  },
  {
   "cell_type": "code",
   "execution_count": 3,
   "id": "edb9c74b",
   "metadata": {},
   "outputs": [
    {
     "ename": "SyntaxError",
     "evalue": "invalid syntax (2487138866.py, line 1)",
     "output_type": "error",
     "traceback": [
      "\u001b[1;36m  Cell \u001b[1;32mIn[3], line 1\u001b[1;36m\u001b[0m\n\u001b[1;33m    os with open('C:\\\\Users\\\\gky16\\\\OneDrive\\\\Desktop\\\\deque\\\\medical chat data') as f:\u001b[0m\n\u001b[1;37m       ^\u001b[0m\n\u001b[1;31mSyntaxError\u001b[0m\u001b[1;31m:\u001b[0m invalid syntax\n"
     ]
    }
   ],
   "source": [
    "os with open('C:\\\\Users\\\\gky16\\\\OneDrive\\\\Desktop\\\\deque\\\\medical chat data') as f:\n",
    "    data = json.load(f)"
   ]
  },
  {
   "cell_type": "code",
   "execution_count": 7,
   "id": "f887adec",
   "metadata": {},
   "outputs": [],
   "source": [
    "import os # import the os module\n",
    "with open(\"C:\\\\Users\\\\gky16\\\\OneDrive\\\\Desktop\\deque\\\\medical chat data\\\\intents.json\") as f: # open the file with the with statement\n",
    "    data = json.load(f) # load the data as a JSON object\n"
   ]
  },
  {
   "cell_type": "code",
   "execution_count": 8,
   "id": "f577359f",
   "metadata": {},
   "outputs": [
    {
     "name": "stdout",
     "output_type": "stream",
     "text": [
      "WARNING:tensorflow:From C:\\Users\\gky16\\anaconda3\\lib\\site-packages\\tflearn\\initializations.py:164: calling TruncatedNormal.__init__ (from tensorflow.python.ops.init_ops) with dtype is deprecated and will be removed in a future version.\n",
      "Instructions for updating:\n",
      "Call initializer instance with the dtype argument instead of passing it to the constructor\n"
     ]
    }
   ],
   "source": [
    "words = []\n",
    "labels = []\n",
    "docs_x = []\n",
    "docs_y = []\n",
    "\n",
    "for intent in data[\"intents\"]:\n",
    "  for pattern in intent[\"patterns\"]:\n",
    "    wrds = nltk.word_tokenize(pattern)\n",
    "    words.extend(wrds)\n",
    "    docs_x.append(wrds)\n",
    "    docs_y.append(intent[\"tag\"])\n",
    "\n",
    "\n",
    "  if intent[\"tag\"] not in labels:\n",
    "    labels.append(intent[\"tag\"])  \n",
    "\n",
    "words = [stemmer.stem(w.lower()) for w in words if  w not in \"?\"]\n",
    "words = sorted(list(set(words)))\n",
    "\n",
    "labels = sorted(labels)\n",
    "\n",
    "training = []\n",
    "output = []\n",
    "\n",
    "out_empty = [0 for _ in range(len(labels))]\n",
    "\n",
    "for x,doc in enumerate(docs_x):\n",
    "  bag = []\n",
    "  wrds = [stemmer.stem(w) for w in doc]\n",
    "\n",
    "  for w in words:\n",
    "    if w in wrds:\n",
    "      bag.append(1)\n",
    "    else:\n",
    "      bag.append(0)\n",
    "\n",
    "  output_row = out_empty[:]\n",
    "  output_row[labels.index(docs_y[x])] = 1\n",
    "\n",
    "  training.append(bag)\n",
    "  output.append(output_row)\n",
    "\n",
    "training = np.array(training)\n",
    "output = np.array(output)\n",
    "\n",
    "tf.compat.v1.reset_default_graph()\n",
    "\n",
    "net = tflearn.input_data(shape=[None, len(training[0])])\n",
    "net = tflearn.fully_connected(net, 8)\n",
    "net = tflearn.fully_connected(net, 8)\n",
    "net = tflearn.fully_connected(net, len(output[0]), activation = \"softmax\")\n",
    "net = tflearn.regression(net)\n",
    "\n",
    "model = tflearn.DNN(net)"
   ]
  },
  {
   "cell_type": "code",
   "execution_count": 9,
   "id": "dad8570e",
   "metadata": {},
   "outputs": [
    {
     "name": "stdout",
     "output_type": "stream",
     "text": [
      "Training Step: 23999  | total loss: \u001b[1m\u001b[32m0.07214\u001b[0m\u001b[0m | time: 0.052s\n",
      "| Adam | epoch: 1000 | loss: 0.07214 - acc: 0.9967 -- iter: 184/188\n",
      "Training Step: 24000  | total loss: \u001b[1m\u001b[32m0.06499\u001b[0m\u001b[0m | time: 0.060s\n",
      "| Adam | epoch: 1000 | loss: 0.06499 - acc: 0.9970 -- iter: 188/188\n",
      "--\n",
      "INFO:tensorflow:C:\\Users\\gky16\\model.tflearn is not in all_model_checkpoint_paths. Manually adding it.\n"
     ]
    }
   ],
   "source": [
    "model.fit(training, output, n_epoch = 1000, batch_size=8, show_metric=True)\n",
    "model.save(\"model.tflearn\")"
   ]
  },
  {
   "cell_type": "code",
   "execution_count": 10,
   "id": "e5abae84",
   "metadata": {},
   "outputs": [],
   "source": [
    "def bag_of_words(s, words):\n",
    "  bag = [0 for _ in range(len(words))]\n",
    "\n",
    "  s_words = nltk.word_tokenize(s)\n",
    "  s_words = [stemmer.stem(word.lower()) for word in s_words]\n",
    "\n",
    "  for se in s_words:\n",
    "    for i, w in enumerate(words):\n",
    "      if w == se:\n",
    "        bag[i] = 1\n",
    "\n",
    "  return np.array(bag)\n",
    "\n",
    "def chat():\n",
    "  print(\"\\033[1;31m Start talking with the bot!, Type quit when you want to quit\")\n",
    "  while True:\n",
    "    inp = input(\"\\033[1;31m You: \")\n",
    "    if inp.lower() == \"quit\":\n",
    "      break\n",
    "\n",
    "    results = model.predict([bag_of_words(inp, words)])\n",
    "    results_index = np.argmax(results)\n",
    "    tag = labels[results_index]\n",
    "\n",
    "    for tg in data[\"intents\"]:\n",
    "      \n",
    "      if tg['tag'] == tag:\n",
    "        \n",
    "        responses = tg['responses']\n",
    "\n",
    "        response_list = nltk.sent_tokenize(str(responses[0]))\n",
    "        colors = [31, 32, 33, 34, 35]\n",
    "\n",
    "        for i in range(len(response_list)):\n",
    "            color_index = i % len(colors)\n",
    "            print(f'\\033[1;{colors[color_index]}m {response_list[i]:<12s}\\n')"
   ]
  },
  {
   "cell_type": "code",
   "execution_count": null,
   "id": "7b30b060",
   "metadata": {},
   "outputs": [
    {
     "name": "stdout",
     "output_type": "stream",
     "text": [
      "\u001b[1;31m Start talking with the bot!, Type quit when you want to quit\n",
      " You: hello\n",
      "\u001b[1;31m 1)Ice the bruise with an ice pack wrapped in a towel.\n",
      "\n",
      "\u001b[1;32m 2)Leave it in place for 10 to 20 minutes.\n",
      "\n",
      "\u001b[1;33m 3)Repeat several times a day for a day or two as needed.\n",
      "\n",
      "\u001b[1;34m 4)Compress the bruised area if it is swelling, using an elastic bandage.\n",
      "\n",
      " You: hii\n",
      "\u001b[1;31m 1)Ice the bruise with an ice pack wrapped in a towel.\n",
      "\n",
      "\u001b[1;32m 2)Leave it in place for 10 to 20 minutes.\n",
      "\n",
      "\u001b[1;33m 3)Repeat several times a day for a day or two as needed.\n",
      "\n",
      "\u001b[1;34m 4)Compress the bruised area if it is swelling, using an elastic bandage.\n",
      "\n",
      " You: gaurav\n",
      "\u001b[1;31m 1)Ice the bruise with an ice pack wrapped in a towel.\n",
      "\n",
      "\u001b[1;32m 2)Leave it in place for 10 to 20 minutes.\n",
      "\n",
      "\u001b[1;33m 3)Repeat several times a day for a day or two as needed.\n",
      "\n",
      "\u001b[1;34m 4)Compress the bruised area if it is swelling, using an elastic bandage.\n",
      "\n",
      " You: child\n",
      "\u001b[1;31m 1)Ice the bruise with an ice pack wrapped in a towel.\n",
      "\n",
      "\u001b[1;32m 2)Leave it in place for 10 to 20 minutes.\n",
      "\n",
      "\u001b[1;33m 3)Repeat several times a day for a day or two as needed.\n",
      "\n",
      "\u001b[1;34m 4)Compress the bruised area if it is swelling, using an elastic bandage.\n",
      "\n",
      " You: medical problem\n",
      "\u001b[1;31m 1) Replenish body fluids 2)Do not take antidiarrheal drugs or laxatives or pain medication, unless specified by a medical professional.3)Taking antacids may help, per recommendation of a healthcare professional.\n",
      "\n",
      "\u001b[1;32m 4)If prone to frequent heartburns, seek medical help.\n",
      "\n",
      "\u001b[1;33m 5)Taking meals that are not spicy regularly, can relieve ulcer pains.\n",
      "\n",
      "\u001b[1;34m 6)Seek medical help, if conditions persist or continue to worsen\n",
      "\n",
      " You: 6\n",
      "\u001b[1;31m 1)Ice the bruise with an ice pack wrapped in a towel.\n",
      "\n",
      "\u001b[1;32m 2)Leave it in place for 10 to 20 minutes.\n",
      "\n",
      "\u001b[1;33m 3)Repeat several times a day for a day or two as needed.\n",
      "\n",
      "\u001b[1;34m 4)Compress the bruised area if it is swelling, using an elastic bandage.\n",
      "\n",
      " You: 4\n",
      "\u001b[1;31m 1)Ice the bruise with an ice pack wrapped in a towel.\n",
      "\n",
      "\u001b[1;32m 2)Leave it in place for 10 to 20 minutes.\n",
      "\n",
      "\u001b[1;33m 3)Repeat several times a day for a day or two as needed.\n",
      "\n",
      "\u001b[1;34m 4)Compress the bruised area if it is swelling, using an elastic bandage.\n",
      "\n",
      " You: 2\n",
      "\u001b[1;31m 1)Ice the bruise with an ice pack wrapped in a towel.\n",
      "\n",
      "\u001b[1;32m 2)Leave it in place for 10 to 20 minutes.\n",
      "\n",
      "\u001b[1;33m 3)Repeat several times a day for a day or two as needed.\n",
      "\n",
      "\u001b[1;34m 4)Compress the bruised area if it is swelling, using an elastic bandage.\n",
      "\n",
      " You: ecg\n",
      "\u001b[1;31m 1)Ice the bruise with an ice pack wrapped in a towel.\n",
      "\n",
      "\u001b[1;32m 2)Leave it in place for 10 to 20 minutes.\n",
      "\n",
      "\u001b[1;33m 3)Repeat several times a day for a day or two as needed.\n",
      "\n",
      "\u001b[1;34m 4)Compress the bruised area if it is swelling, using an elastic bandage.\n",
      "\n",
      " You: xray\n",
      "\u001b[1;31m 1)Ice the bruise with an ice pack wrapped in a towel.\n",
      "\n",
      "\u001b[1;32m 2)Leave it in place for 10 to 20 minutes.\n",
      "\n",
      "\u001b[1;33m 3)Repeat several times a day for a day or two as needed.\n",
      "\n",
      "\u001b[1;34m 4)Compress the bruised area if it is swelling, using an elastic bandage.\n",
      "\n",
      " You: How to cure Cuts\n",
      "\u001b[1;31m Wash the cut properly to prevent infection and stop the bleeding by applying pressure for 1-2minutes until bleeding stops.\n",
      "\n",
      "\u001b[1;32m Apply Petroleum Jelly to make sure that the wound is moist for quick healing.\n",
      "\n",
      "\u001b[1;33m Finally cover the cut with a sterile bandage.\n",
      "\n",
      "\u001b[1;34m Pain relievers such as acetaminophen can be applied.\n",
      "\n",
      " You: How do you treat a mild Fever?\n",
      "\u001b[1;31m To treat a fever at home: 1)Drink plenty of fluids to stay hydrated.\n",
      "\n",
      "\u001b[1;32m 2)Dress in lightweight clothing.\n",
      "\n",
      "\u001b[1;33m 3)Use a light blanket if you feel chilled, until the chills end.\n",
      "\n",
      "\u001b[1;34m 4)Take acetaminophen (Tylenol, others) or ibuprofen (Advil, Motrin IB, others).\n",
      "\n",
      "\u001b[1;35m 5) Get medical help if the fever lasts more than five days in a row.\n",
      "\n"
     ]
    }
   ],
   "source": [
    "chat()"
   ]
  },
  {
   "cell_type": "code",
   "execution_count": null,
   "id": "00f84d7f",
   "metadata": {},
   "outputs": [],
   "source": []
  }
 ],
 "metadata": {
  "kernelspec": {
   "display_name": "Python 3 (ipykernel)",
   "language": "python",
   "name": "python3"
  },
  "language_info": {
   "codemirror_mode": {
    "name": "ipython",
    "version": 3
   },
   "file_extension": ".py",
   "mimetype": "text/x-python",
   "name": "python",
   "nbconvert_exporter": "python",
   "pygments_lexer": "ipython3",
   "version": "3.10.9"
  }
 },
 "nbformat": 4,
 "nbformat_minor": 5
}
